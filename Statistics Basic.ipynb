{
 "cells": [
  {
   "cell_type": "code",
   "execution_count": null,
   "id": "cfb6403c-04f4-48ee-b753-f157c7934877",
   "metadata": {},
   "outputs": [],
   "source": [
    "# 1. What is statistics, and why is it important?\n",
    "\n",
    "'''\n",
    "Statistics is the science of collecting, analyzing, interpreting, and presenting data. It's crucial because \n",
    "it allows us to understand patterns, make predictions, and draw meaningful conclusions from information, \n",
    "which is vital for informed decision-making across various fields. \n",
    "'''"
   ]
  },
  {
   "cell_type": "code",
   "execution_count": null,
   "id": "2090074e-b5c1-4f7d-9199-66b073fce14d",
   "metadata": {},
   "outputs": [],
   "source": [
    "# 2. What are the two main types of statistics ?\n",
    "\n",
    "'''\n",
    "The two main types of statistics are descriptive statistics and inferential statistics. \n",
    "\n",
    "Descriptive statistics summarizes and organizes data from a sample or population using measures like mean, median,\n",
    "standard deviation, etc. It provides a snapshot of the data's key characteristics. \n",
    "\n",
    "Inferential statistics, on the other hand, uses sample data to draw conclusions and make predictions about a larger\n",
    "population. It involves techniques like hypothesis testing and confidence intervals. \n",
    "'''"
   ]
  },
  {
   "cell_type": "code",
   "execution_count": null,
   "id": "9f125a7e-2bdd-4602-b7c0-befc081fba21",
   "metadata": {},
   "outputs": [],
   "source": [
    "# 3.What are descriptive statistics?\n",
    "\n",
    "'''\n",
    "Descriptive statistics are used to summarize and describe the basic features of a dataset, providing a concise \n",
    "overview of its characteristics without making generalizations about a larger population. They focus on the sample \n",
    "or population at hand, offering insights into its distribution, central tendency, and variability. \n",
    "'''"
   ]
  },
  {
   "cell_type": "code",
   "execution_count": null,
   "id": "22f62dc1-f04d-49e5-ac94-09d514a149ab",
   "metadata": {},
   "outputs": [],
   "source": [
    "# 4. What is inferential statistics?\n",
    "\n",
    "'''\n",
    "Inferential statistics is a branch of statistics that uses sample data to draw conclusions or make predictions \n",
    "about a larger population. It involves using statistical techniques to estimate population parameters, test hypotheses\n",
    ", and determine the reliability of findings beyond the sample data. \n",
    "'''"
   ]
  },
  {
   "cell_type": "code",
   "execution_count": null,
   "id": "03b62419-45e0-4dfb-99cb-1bff1df8ecc3",
   "metadata": {},
   "outputs": [],
   "source": [
    "# 5.What is sampling in statistics?\n",
    "\n",
    "'''\n",
    "In statistics, sampling is the process of selecting a subset of individuals or items from a larger population to \n",
    "study and draw conclusions about the entire population. It's used when it's impractical or impossible to collect\n",
    "data from every member of the population. \n",
    "'''"
   ]
  },
  {
   "cell_type": "code",
   "execution_count": null,
   "id": "3b4f1a26-1e7a-4437-88ef-63b377eddedd",
   "metadata": {},
   "outputs": [],
   "source": [
    "# 6. What are the different types of sampling methods?\n",
    "\n",
    "'''\n",
    "Sampling techniques are categorized into two main types: probability sampling and non-probability sampling.\n",
    "Each type is tailored to specific research needs and offers unique advantages and challenges·\n",
    "\n",
    "Probability Sampling:\n",
    "\n",
    "Simple Random Sampling\n",
    "Stratified Sampling\n",
    "Cluster Sampling\n",
    "Systematic Sampling\n",
    "\n",
    "Non-Probability Sampling:\n",
    "\n",
    "Convenience Sampling\n",
    "Purposive Sampling\n",
    "Snowball Sampling\n",
    "Quota Sampling\n",
    "'''"
   ]
  },
  {
   "cell_type": "code",
   "execution_count": null,
   "id": "aa47a890-2b99-4a02-be3a-730d3cdd448e",
   "metadata": {},
   "outputs": [],
   "source": [
    "# 7. What is the difference between random and non-random sampling?\n",
    "\n",
    "'''The primary difference between random and non-random sampling lies in how individuals or items are selected\n",
    "for a study or survey. Random sampling ensures each member of the population has an equal chance of being chosen,\n",
    "minimizing bias, while non-random sampling uses specific criteria or convenience, potentially introducing bias. \n",
    "'''"
   ]
  },
  {
   "cell_type": "code",
   "execution_count": null,
   "id": "7895009d-9e2f-474d-a0bc-be77d4398672",
   "metadata": {},
   "outputs": [],
   "source": [
    "# 8. Define and give examples of qualitative and quantitative data.\n",
    "\n",
    "'''\n",
    "Qualitative data is descriptive and non-numerical. It focuses on qualities or characteristics that can be observed\n",
    "or categorized but not measured with numbers. \n",
    "\n",
    "Examples:\n",
    "Colors: Red, blue, green, etc. \n",
    "Types of fruit: Apple, banana, orange, etc. \n",
    "Customer feedback: \"The service was excellent,\" or \"The food was bland\". \n",
    "\n",
    "Quantitative data is numerical and can be measured. It focuses on quantities or amounts that can be counted or \n",
    "calculated.\n",
    "\n",
    "Examples:\n",
    "Age: 25 years old, 40 years old, etc. \n",
    "Height: 5'10\", 1.75 meters, etc. \n",
    "Weight: 150 pounds, 70 kilograms, etc. \n",
    "'''"
   ]
  },
  {
   "cell_type": "code",
   "execution_count": null,
   "id": "6b54b96f-f69e-43b1-a82f-d8a70f6e1616",
   "metadata": {},
   "outputs": [],
   "source": [
    "# 9. What are the different types of data in statistics?\n",
    "\n",
    "'''\n",
    "In statistics, data is broadly classified into qualitative (or categorical) and quantitative (or numerical). \n",
    "These categories are further divided into sub-types. Qualitative data includes nominal and ordinal data, while\n",
    "quantitative data includes discrete and continuous data. \n",
    "\n",
    "1. Qualitative (Categorical) Data:\n",
    "\n",
    "Nominal Data:\n",
    "This type of data represents categories without any inherent order or ranking. Examples include colors (red, blue,\n",
    "green), types of fruit (apple, banana, orange), or gender (male, female). \n",
    "\n",
    "Ordinal Data:\n",
    "This data represents categories with a meaningful order or ranking, but the differences between the categories may\n",
    "not be quantifiable. Examples include education levels (high school, bachelor's, master's), or customer satisfaction\n",
    "ratings (very dissatisfied, dissatisfied, neutral, satisfied, very satisfied). \n",
    "\n",
    "2. Quantitative (Numerical) Data:\n",
    "\n",
    "Discrete Data:\n",
    "This data can only take on specific, separate values, usually whole numbers, and often represents counts. Examples\n",
    "include the number of students in a class, the number of cars passing a point on a highway, or the number of heads \n",
    "when flipping a coin. \n",
    "\n",
    "Continuous Data:\n",
    "This data can take on any value within a given range, and often involves measurements. Examples include height, weight,\n",
    "temperature, or the time it takes to complete a task. \n",
    "'''"
   ]
  },
  {
   "cell_type": "code",
   "execution_count": null,
   "id": "b931be63-73a9-456f-b649-963b3a71e66a",
   "metadata": {},
   "outputs": [],
   "source": [
    "# 10. Explain nominal, ordinal, interval, and ratio levels of measurement.\n",
    "\n",
    "'''\n",
    "The four levels of measurement, from least to most sophisticated, are nominal, ordinal, interval, and ratio. These\n",
    "levels describe how variables are categorized and the mathematical properties they possess, influencing the types of\n",
    "statistical analyses that can be applied. \n",
    "\n",
    "1. Nominal: Nominal scales categorize data into distinct, unordered groups or labels.\n",
    "\n",
    "Characteristics: Numbers or symbols are used to classify, but they don't indicate any order or quantity.\n",
    "Examples: Eye color (blue, brown, green), types of fruit (apple, orange, banana), or social security numbers.\n",
    "\n",
    "2. Ordinal: Ordinal scales categorize data and establish an order or ranking between the categories.\n",
    "\n",
    "Characteristics: While you can rank the data, the intervals between the ranks are not necessarily equal or \n",
    "meaningful.\n",
    "\n",
    "Examples:\n",
    "Educational levels (high school, bachelor's, master's), customer satisfaction (very dissatisfied, neutral,\n",
    "very satisfied), or race results (first place, second place, third place).\n",
    "\n",
    "3. Interval: Interval scales categorize data, establish order, and have equal intervals between data points.\n",
    "\n",
    "Characteristics: The differences between values are meaningful and consistent, but there is no true zero point.\n",
    "Examples: Temperature in Celsius or Fahrenheit, dates on a calendar.\n",
    "\n",
    "4. Ratio: Ratio scales possess all the characteristics of the previous three levels, and also have a true zero \n",
    "point.\n",
    "Characteristics: A zero value indicates the absence of the quantity being measured, allowing for meaningful \n",
    "ratios to be calculated.\n",
    "\n",
    "Examples: Height, weight, age, income, reaction time.\n",
    "\n",
    "'''"
   ]
  },
  {
   "cell_type": "code",
   "execution_count": null,
   "id": "1b8c1c7a-0331-4e0f-9a1d-908a42a2edb4",
   "metadata": {},
   "outputs": [],
   "source": [
    "# 11. What is the measure of central tendency?\n",
    "\n",
    "'''\n",
    "A measure of central tendency is a single value that attempts to describe a set of data by identifying the \n",
    "central position within that set of data. It's a way to summarize a dataset with a representative value that\n",
    "indicates where the \"middle\" or \"center\" of the data lies. The three most common measures of central tendency\n",
    "are the mean, median, and mode. \n",
    "'''"
   ]
  },
  {
   "cell_type": "code",
   "execution_count": null,
   "id": "5684d119-ab2c-455d-a030-31534672cb5c",
   "metadata": {},
   "outputs": [],
   "source": [
    "#  12. Define mean, median, and mode.\n",
    "\n",
    "'''\n",
    "Mean, median, and mode are measures of central tendency used to describe the \"average\" or typical value within\n",
    "a dataset. The mean is the arithmetic average, the median is the middle value when the data is ordered, and the\n",
    "mode is the most frequent value. \n",
    "\n",
    "Mean: The mean is calculated by summing all the values in a dataset and then dividing by the total number of \n",
    "values. For example, the mean of the set {2, 4, 6, 8} is (2+4+6+8)/4 = 5. \n",
    "\n",
    "Median: The median is the middle value of a dataset when it is arranged in ascending order. If there is an even\n",
    "number of values, the median is the average of the two middle values. For example, the median of the set {2, 4, 6,\n",
    "8, 10} is 6. For the set {2, 4, 6, 8}, the median is (4+6)/2 = 5. \n",
    "\n",
    "Mode: The mode is the value that appears most frequently in a dataset. For example, the mode of the set {2, 2, 4, \n",
    "6, 8, 8, 8} is 8. A dataset can have one mode, multiple modes, or no mode at all. \n",
    "'''"
   ]
  },
  {
   "cell_type": "code",
   "execution_count": null,
   "id": "e04f03ec-205f-40f9-acb4-210fdac2c603",
   "metadata": {},
   "outputs": [],
   "source": [
    "# 13. What is the significance of the measure of central tendency?\n",
    "\n",
    "'''\n",
    "Measures of central tendency are crucial because they summarize a dataset with a single value that represents the \n",
    "\"typical\" or \"average\" value, making it easier to understand and compare data. They are fundamental in data analysis,\n",
    "providing a concise representation of a dataset's central location, helping identify patterns and making comparisons \n",
    "between different datasets. \n",
    "'''"
   ]
  },
  {
   "cell_type": "code",
   "execution_count": null,
   "id": "feabd017-02a0-4bf9-b90e-1f9ecc925ac3",
   "metadata": {},
   "outputs": [],
   "source": [
    "# 14. What is variance, and how is it calculated?\n",
    "\n",
    "'''\n",
    "Variance is a statistical measure that quantifies the amount of dispersion or variability within a set of data \n",
    "points. It essentially tells you how spread out the numbers are from their average value (mean). A higher variance\n",
    "indicates that the data points are more scattered, while a lower variance suggests they are clustered closer to the\n",
    "mean. \n",
    "\n",
    "Calculation:\n",
    "\n",
    "Calculate the mean: Sum all the data points and divide by the total number of points.\n",
    "\n",
    "Find the differences from the mean: Subtract the mean from each individual data point. \n",
    "\n",
    "Square the differences: Square each of the differences calculated in the previous step. \n",
    "\n",
    "Calculate the average of the squared differences: Sum all the squared differences and divide by\n",
    "the total number of data points (or, for a sample, divide by the number of data points minus one).\n",
    "This final result is the variance. \n",
    "'''"
   ]
  },
  {
   "cell_type": "code",
   "execution_count": null,
   "id": "a5609b0b-87fe-4dc0-904c-eb43b19e7d15",
   "metadata": {},
   "outputs": [],
   "source": [
    "# 15.  What is standard deviation, and why is it important?\n",
    "\n",
    "'''\n",
    "Standard deviation is a statistical measure that quantifies the amount of variation or dispersion of a set of \n",
    "values from its mean (average). It essentially indicates how spread out the data is; a low standard deviation \n",
    "means the data points are close to the average, while a high standard deviation indicates the data points are \n",
    "more spread out. \n",
    "'''"
   ]
  },
  {
   "cell_type": "code",
   "execution_count": null,
   "id": "afb183a1-b662-44f6-a01e-6cbd70741b07",
   "metadata": {},
   "outputs": [],
   "source": [
    "# 16. Define and explain the term range in statistics.\n",
    "\n",
    "'''\n",
    "In statistics, the range is a simple measure of dispersion that represents the difference between the highest\n",
    "and lowest values in a dataset. It provides a quick understanding of the spread or variability of the data. \n",
    "To calculate the range, you subtract the minimum value from the maximum value in the dataset. \n",
    "'''"
   ]
  },
  {
   "cell_type": "code",
   "execution_count": null,
   "id": "aa5016da-fd39-4ee0-b510-b495072f6048",
   "metadata": {},
   "outputs": [],
   "source": [
    "# 17.  What is the difference between variance and standard deviation?\n",
    "\n",
    "'''\n",
    "Variance and standard deviation are both measures of data dispersion, but they differ in how they quantify it \n",
    "and in their units. Variance is the average of the squared differences from the mean, while standard deviation\n",
    "is the square root of the variance. This means standard deviation is expressed in the same units as the original\n",
    "data, making it easier to interpret, whereas variance is in squared units. \n",
    "'''"
   ]
  },
  {
   "cell_type": "code",
   "execution_count": null,
   "id": "044b2d1a-431c-476e-8da3-ce97dc0a24b5",
   "metadata": {},
   "outputs": [],
   "source": [
    "# 18. What is skewness in a dataset?\n",
    "\n",
    "'''\n",
    "Skewness in a dataset refers to the asymmetry or lack of symmetry in the distribution of data points. It indicates\n",
    "whether the data is concentrated more on one side of the mean than the other. A skewed dataset is not a symmetrical\n",
    "distribution, like a normal distribution. \n",
    "'''"
   ]
  },
  {
   "cell_type": "code",
   "execution_count": null,
   "id": "d7af3a28-76de-46a2-9421-dfda24590e85",
   "metadata": {},
   "outputs": [],
   "source": [
    "# 19. What does it mean if a dataset is positively or negatively skewed?\n",
    "\n",
    "'''\n",
    "In statistics, skewness describes the asymmetry of a data distribution. A positively skewed distribution has a longer\n",
    "tail on the right side, meaning most values are clustered on the left with a few high outliers. Conversely, a \n",
    "negatively skewed distribution has a longer tail on the left, with most values clustered on the right and some \n",
    "low outliers.\n",
    "'''"
   ]
  },
  {
   "cell_type": "code",
   "execution_count": null,
   "id": "d61c4202-e0f6-413a-8d5e-3006bd332801",
   "metadata": {},
   "outputs": [],
   "source": [
    "# 20. Define and explain kurtosis/\n",
    "\n",
    "'''\n",
    "Kurtosis is a statistical measure used to describe a characteristic of a dataset. It generally takes the form of a \n",
    "bell when normally distributed data is plotted on a graph. This is called the bell curve. The plotted data that are\n",
    "farthest from the mean of the data usually form the tails on each side of the curve.\n",
    "'''"
   ]
  },
  {
   "cell_type": "code",
   "execution_count": null,
   "id": "2a3cd5cc-6441-4cf6-9b95-8bc366072e01",
   "metadata": {},
   "outputs": [],
   "source": [
    "# 21. What is the purpose of covariance?\n",
    "\n",
    "'''\n",
    "The purpose of covariance is to measure how two variables change together, indicating the direction of their linear\n",
    "relationship. It quantifies whether they tend to increase or decrease simultaneously (positive covariance) or if one\n",
    "increases as the other decreases (negative covariance). Covariance helps understand the joint variability of variables\n",
    "and is a precursor to understanding correlation. \n",
    "'''"
   ]
  },
  {
   "cell_type": "code",
   "execution_count": null,
   "id": "9b9668e1-1ba1-42dc-9df6-df4cdd5f13d5",
   "metadata": {},
   "outputs": [],
   "source": [
    "# 22. What does correlation measure in statistics?\n",
    "\n",
    "'''\n",
    "In statistics, correlation measures the strength and direction of the linear relationship between two variables. \n",
    "It indicates how closely the values of one variable change in relation to the values of another variable.\n",
    "'''"
   ]
  },
  {
   "cell_type": "code",
   "execution_count": null,
   "id": "6db13652-aa8d-47c8-83b4-8091d46aa4d4",
   "metadata": {},
   "outputs": [],
   "source": [
    "# 23. What is the difference between covariance and correlation?\n",
    "\n",
    "'''\n",
    "Covariance and correlation both measure the relationship between two variables, but they differ in how they represent\n",
    "the strength and scale of that relationship. Covariance indicates the direction of the relationship (positive or \n",
    "negative), while correlation standardizes this measure to provide a value between -1 and +1, indicating both direction\n",
    "and strength. \n",
    "'''"
   ]
  },
  {
   "cell_type": "code",
   "execution_count": null,
   "id": "058327dd-9ac7-4c3a-9da7-9d4155e9ac13",
   "metadata": {},
   "outputs": [],
   "source": [
    "# 24. What are some real-world applications of statistics?\n",
    "\n",
    "'''\n",
    "Statistics are applied in countless real-world situations to analyze data, identify trends, and make informed decisions.\n",
    "They are used in business for market research, quality control, and financial forecasting. In healthcare, statistics are\n",
    "crucial for clinical trials, disease tracking, and understanding treatment effectiveness. They also play a vital role in\n",
    "environmental science, government, and even in personal finance.\n",
    "'''"
   ]
  },
  {
   "cell_type": "code",
   "execution_count": 3,
   "id": "c0f6dc6d-b738-471c-9c00-a9e6a269b737",
   "metadata": {},
   "outputs": [
    {
     "data": {
      "text/plain": [
       "np.float64(177.01875)"
      ]
     },
     "execution_count": 3,
     "metadata": {},
     "output_type": "execute_result"
    }
   ],
   "source": [
    "# Practical Questions\n",
    "\n",
    "# 1. How do you calculate the mean, median, and mode of a dataset?\n",
    "\n",
    "height = [178,177,176,177,178.2,178,175,179,180,175,178.9,176.2,177,172.5,178,176.5]\n",
    "\n",
    "import numpy as np\n",
    "mean = np.mean(height)\n",
    "mean"
   ]
  },
  {
   "cell_type": "code",
   "execution_count": 4,
   "id": "6167049e-2f24-45da-87be-6d13daa249da",
   "metadata": {},
   "outputs": [
    {
     "data": {
      "text/plain": [
       "np.float64(177.0)"
      ]
     },
     "execution_count": 4,
     "metadata": {},
     "output_type": "execute_result"
    }
   ],
   "source": [
    "median = np.median(height)\n",
    "median"
   ]
  },
  {
   "cell_type": "code",
   "execution_count": 3,
   "id": "bc1d1b9f-b149-4e00-ad3a-d47c9651ac9e",
   "metadata": {},
   "outputs": [
    {
     "data": {
      "text/plain": [
       "178"
      ]
     },
     "execution_count": 3,
     "metadata": {},
     "output_type": "execute_result"
    }
   ],
   "source": [
    "import statistics\n",
    "height = [178,177,176,177,178.2,178,175,179,180,175,178.9,176.2,177,172.5,178,176.5]\n",
    "statistics.mode(height)"
   ]
  },
  {
   "cell_type": "code",
   "execution_count": 4,
   "id": "ea7f023e-0ced-40ef-af80-907adba473d5",
   "metadata": {},
   "outputs": [
    {
     "name": "stdout",
     "output_type": "stream",
     "text": [
      "Variance: 5.76\n",
      "Standard Deviation: 2.4\n"
     ]
    }
   ],
   "source": [
    "# 2. Write a Python program to compute the variance and standard deviation of a dataset?\n",
    "\n",
    "import math\n",
    "\n",
    "def calculate_stats(data):\n",
    "    \"\"\"\n",
    "    Calculates the variance and standard deviation of a dataset.\n",
    "\n",
    "    Args:\n",
    "        data (list): A list of numerical values.\n",
    "\n",
    "    Returns:\n",
    "        tuple: A tuple containing the variance and standard deviation.\n",
    "    \"\"\"\n",
    "    if not data:\n",
    "        return 0, 0  # Handle empty dataset\n",
    "\n",
    "    n = len(data)\n",
    "    mean = sum(data) / n\n",
    "\n",
    "    # Calculate variance\n",
    "    squared_differences = [(x - mean) ** 2 for x in data]\n",
    "    variance = sum(squared_differences) / n  # For population variance\n",
    "    # For sample variance, use (n - 1) in the denominator:\n",
    "    # variance = sum(squared_differences) / (n - 1) if n > 1 else 0\n",
    "\n",
    "    # Calculate standard deviation\n",
    "    std_dev = math.sqrt(variance)\n",
    "\n",
    "    return variance, std_dev\n",
    "\n",
    "dataset = [4, 8, 6, 5, 3, 2, 8, 9, 2, 5]\n",
    "variance_result, std_dev_result = calculate_stats(dataset)\n",
    "print(f\"Variance: {variance_result}\")\n",
    "print(f\"Standard Deviation: {std_dev_result}\")"
   ]
  },
  {
   "cell_type": "code",
   "execution_count": 5,
   "id": "97e7513d-2528-4bef-99b7-2b80ccab7004",
   "metadata": {},
   "outputs": [
    {
     "name": "stdout",
     "output_type": "stream",
     "text": [
      "Column 'CustomerID' is classified as: Nominal\n",
      "Column 'City' is classified as: Ordinal\n",
      "Column 'ProductCategory' is classified as: Ordinal\n",
      "Column 'SatisfactionRating' is classified as: Ordinal\n",
      "Column 'PurchaseAmount' is classified as: Nominal\n",
      "Column 'Temperature' is classified as: Nominal\n",
      "Column 'CustomerID_Encoded' is classified as: Ordinal\n",
      "Column 'Ordinal_Example' is classified as: Ordinal\n",
      "Column 'Ratio_Example' is classified as: Nominal\n"
     ]
    }
   ],
   "source": [
    "# 3. Create a dataset and classify it into nominal, ordinal, interval, and ratio types.\n",
    "\n",
    "import pandas as pd\n",
    "import numpy as np\n",
    "\n",
    "# Create a sample dataset\n",
    "data = {\n",
    "    'CustomerID': [1, 2, 3, 4, 5, 6, 7, 8],\n",
    "    'City': ['New York', 'London', 'Paris', 'Tokyo', 'New York', 'London', 'Paris', 'Tokyo'],\n",
    "    'ProductCategory': ['Electronics', 'Clothing', 'Electronics', 'Books', 'Clothing', 'Electronics', 'Books', 'Clothing'],\n",
    "    'SatisfactionRating': [4, 2, 5, 3, 1, 4, 2, 5],\n",
    "    'PurchaseAmount': [100, 50, 200, 25, 75, 150, 30, 120],\n",
    "    'Temperature': [25, 15, 20, 10, 28, 18, 22, 12],\n",
    "    'CustomerID_Encoded': [0, 1, 2, 3, 0, 1, 2, 3]\n",
    "}\n",
    "df = pd.DataFrame(data)\n",
    "\n",
    "# Classify variables\n",
    "def classify_variable(series):\n",
    "    \"\"\"Classifies a pandas Series based on its characteristics.\"\"\"\n",
    "    if series.dtype == 'object' or series.nunique() < 10:  # Consider categorical if object type or few unique values\n",
    "        if series.nunique() == series.count():\n",
    "            return \"Nominal\"\n",
    "        elif series.nunique() > 1 and series.nunique() < series.count():\n",
    "            return \"Ordinal\" # Ordinal needs further checks. Example below\n",
    "        else:\n",
    "           return \"Nominal\" # consider as Nominal if it has unique values less than number of rows\n",
    "    elif series.dtype in ['int64', 'float64']:\n",
    "        if series.min() == 0 and series.nunique() > 1: # Check for a true zero before doing further checks\n",
    "            return \"Ratio\"\n",
    "        elif series.min() >= 0 and series.nunique() > 1:\n",
    "            return \"Interval\"\n",
    "        else:\n",
    "           return \"Ratio\" # consider as Ratio if it has unique values less than number of rows, or a minimum value above 0.\n",
    "    else:\n",
    "        return \"Unknown\"\n",
    "\n",
    "#Classify each column\n",
    "for column in df.columns:\n",
    "    classification = classify_variable(df[column])\n",
    "    print(f\"Column '{column}' is classified as: {classification}\")\n",
    "\n",
    "#Example of classifying ordinal data - further checks might be needed\n",
    "ordinal_data = pd.Series(['Low', 'Medium', 'High', 'High', 'Low'], dtype=\"category\")\n",
    "ordinal_data = ordinal_data.cat.reorder_categories(['Low', 'Medium', 'High'], ordered=True)\n",
    "print(f\"Column 'Ordinal_Example' is classified as: {classify_variable(ordinal_data)}\")\n",
    "\n",
    "#Example of ratio data with a true zero point\n",
    "ratio_data = pd.Series([0, 10, 20, 30, 40], dtype=\"float64\")\n",
    "print(f\"Column 'Ratio_Example' is classified as: {classify_variable(ratio_data)}\")"
   ]
  },
  {
   "cell_type": "code",
   "execution_count": 6,
   "id": "8b8a833e-86c4-4d82-a78e-15a792c6279d",
   "metadata": {},
   "outputs": [
    {
     "name": "stdout",
     "output_type": "stream",
     "text": [
      "Simple Random Sample: [93, 66, 54, 91, 92, 36, 72, 31, 45, 85]\n",
      "\n",
      "DataFrame Random Sample:\n",
      "    ID  Value\n",
      "83  84    244\n",
      "53  54    156\n",
      "70  71    445\n",
      "45  46    187\n",
      "44  45    210\n",
      "39  40    100\n",
      "22  23     60\n",
      "80  81    695\n",
      "10  11    576\n",
      "0    1    963\n"
     ]
    }
   ],
   "source": [
    "# 4. Implement sampling techniques like random sampling and stratified sampling.\n",
    "\n",
    "import random\n",
    "import pandas as pd\n",
    "\n",
    "# Example population (can be a list, array, or DataFrame)\n",
    "population = list(range(1, 101)) # Numbers from 1 to 100\n",
    "\n",
    "# Simple Random Sampling\n",
    "sample_size = 10\n",
    "random_sample = random.sample(population, sample_size)\n",
    "print(f\"Simple Random Sample: {random_sample}\")\n",
    "\n",
    "# Random sampling from a Pandas DataFrame\n",
    "data = {'ID': range(1, 101), 'Value': [random.randint(1, 1000) for _ in range(100)]}\n",
    "df = pd.DataFrame(data)\n",
    "\n",
    "# Using .sample() method for random sampling\n",
    "df_random_sample = df.sample(n=sample_size, random_state=42) # random_state for reproducibility\n",
    "print(\"\\nDataFrame Random Sample:\")\n",
    "print(df_random_sample)"
   ]
  },
  {
   "cell_type": "code",
   "execution_count": 8,
   "id": "e2f42770-07c7-42c2-b2bf-1c48efa9cd4a",
   "metadata": {},
   "outputs": [],
   "source": [
    "# 5. Write a Python function to calculate the range of a dataset.\n",
    "\n",
    "def calculate_range(data):\n",
    "    \"\"\"\n",
    "    Calculates the range of a numerical dataset.\n",
    "\n",
    "    Args:\n",
    "        data: A list or tuple of numerical values.\n",
    "\n",
    "    Returns:\n",
    "        The range of the dataset (maximum value - minimum value).\n",
    "        Returns 0 if the dataset is empty or contains only one element.\n",
    "    \"\"\"\n",
    "    if not data:\n",
    "        return 0  # Handle empty dataset\n",
    "    \n",
    "    max_value = max(data)\n",
    "    min_value = min(data)\n",
    "    dataset_range = max_value - min_value\n",
    "    return dataset_range"
   ]
  },
  {
   "cell_type": "code",
   "execution_count": 9,
   "id": "204fc347-e16a-4d89-9f06-94f449182ca3",
   "metadata": {},
   "outputs": [
    {
     "name": "stdout",
     "output_type": "stream",
     "text": [
      "Skewness of positively skewed data: 4.05\n",
      "Skewness of negatively skewed data: -2.61\n",
      "Skewness of no-skew data: -0.12\n"
     ]
    },
    {
     "data": {
      "image/png": "[encoded data removed]",
      "text/plain": [
       "<Figure size 1500x500 with 3 Axes>"
      ]
     },
     "metadata": {},
     "output_type": "display_data"
    }
   ],
   "source": [
    "# 6. Create a dataset and plot its histogram to visualize skewness.\n",
    "\n",
    "import numpy as np\n",
    "import matplotlib.pyplot as plt\n",
    "from scipy.stats import skew\n",
    "\n",
    "# 1. Create a dataset with positive skewness (e.g., from a lognormal distribution)\n",
    "# np.random.seed(42) # for reproducibility\n",
    "data_positive_skew = np.random.lognormal(mean=0, sigma=0.8, size=1000)\n",
    "\n",
    "# 2. Create a dataset with negative skewness (e.g., by subtracting from a constant)\n",
    "data_negative_skew = 10 - np.random.lognormal(mean=0, sigma=0.8, size=1000)\n",
    "\n",
    "# 3. Create a dataset with approximately no skewness (e.g., from a normal distribution)\n",
    "data_no_skew = np.random.normal(loc=0, scale=1, size=1000)\n",
    "\n",
    "# Calculate skewness for each dataset\n",
    "skewness_positive = skew(data_positive_skew)\n",
    "skewness_negative = skew(data_negative_skew)\n",
    "skewness_no = skew(data_no_skew)\n",
    "\n",
    "print(f\"Skewness of positively skewed data: {skewness_positive:.2f}\")\n",
    "print(f\"Skewness of negatively skewed data: {skewness_negative:.2f}\")\n",
    "print(f\"Skewness of no-skew data: {skewness_no:.2f}\")\n",
    "\n",
    "# 4. Plot histograms to visualize skewness\n",
    "plt.figure(figsize=(15, 5))\n",
    "\n",
    "# Positively skewed histogram\n",
    "plt.subplot(1, 3, 1)\n",
    "plt.hist(data_positive_skew, bins=30, color='skyblue', edgecolor='black')\n",
    "plt.title('Positively Skewed Data')\n",
    "plt.xlabel('Value')\n",
    "plt.ylabel('Frequency')\n",
    "\n",
    "# Negatively skewed histogram\n",
    "plt.subplot(1, 3, 2)\n",
    "plt.hist(data_negative_skew, bins=30, color='lightcoral', edgecolor='black')\n",
    "plt.title('Negatively Skewed Data')\n",
    "plt.xlabel('Value')\n",
    "plt.ylabel('Frequency')\n",
    "\n",
    "# No skew histogram\n",
    "plt.subplot(1, 3, 3)\n",
    "plt.hist(data_no_skew, bins=30, color='lightgreen', edgecolor='black')\n",
    "plt.title('Approximately No Skew Data')\n",
    "plt.xlabel('Value')\n",
    "plt.ylabel('Frequency')\n",
    "\n",
    "plt.tight_layout()\n",
    "plt.show()"
   ]
  },
  {
   "cell_type": "code",
   "execution_count": 10,
   "id": "58197e04-c06d-4ff9-a6ca-7e5e59b42f27",
   "metadata": {},
   "outputs": [
    {
     "name": "stdout",
     "output_type": "stream",
     "text": [
      "Skewness: 1.2206730475385303\n",
      "Kurtosis (Fisher): 1.0721580295522433\n",
      "Kurtosis (Pearson): 4.072158029552243\n"
     ]
    }
   ],
   "source": [
    "# 7. Calculate skewness and kurtosis of a dataset using Python libraries.\n",
    "\n",
    "import numpy as np\n",
    "from scipy.stats import skew, kurtosis\n",
    "\n",
    "# Create a sample dataset\n",
    "data = np.array([10, 12, 15, 18, 20, 22, 25, 28, 30, 50])\n",
    "\n",
    "# Calculate skewness\n",
    "skewness_value = skew(data)\n",
    "print(f\"Skewness: {skewness_value}\")\n",
    "\n",
    "# Calculate kurtosis (Fisher's kurtosis, where normal distribution has kurtosis of 0)\n",
    "kurtosis_value = kurtosis(data)\n",
    "print(f\"Kurtosis (Fisher): {kurtosis_value}\")\n",
    "\n",
    "# Calculate kurtosis (Pearson's kurtosis, where normal distribution has kurtosis of 3)\n",
    "kurtosis_pearson = kurtosis(data, fisher=False)\n",
    "print(f\"Kurtosis (Pearson): {kurtosis_pearson}\")"
   ]
  },
  {
   "cell_type": "code",
   "execution_count": 11,
   "id": "330f6180-5ca3-437e-b00a-06804aa70d0a",
   "metadata": {},
   "outputs": [
    {
     "name": "stdout",
     "output_type": "stream",
     "text": [
      "Skewness of positively skewed data: 1.87\n",
      "Skewness of negatively skewed data: -1.99\n"
     ]
    },
    {
     "data": {
      "image/png": "[encoded data removed]",
      "text/plain": [
       "<Figure size 1200x500 with 2 Axes>"
      ]
     },
     "metadata": {},
     "output_type": "display_data"
    }
   ],
   "source": [
    "# 8. Generate a dataset and demonstrate positive and negative skewness.\n",
    "\n",
    "import numpy as np\n",
    "import matplotlib.pyplot as plt\n",
    "from scipy.stats import skew\n",
    "\n",
    "# --- Generate a positively skewed dataset ---\n",
    "# A positively skewed distribution has a long tail on the right side.\n",
    "# This can be simulated using a power transformation or by adding outliers to the right.\n",
    "np.random.seed(42) # for reproducibility\n",
    "positive_skew_data = np.random.exponential(scale=2, size=1000)\n",
    "\n",
    "# --- Generate a negatively skewed dataset ---\n",
    "# A negatively skewed distribution has a long tail on the left side.\n",
    "# This can be simulated by subtracting from a constant or by adding outliers to the left.\n",
    "negative_skew_data = 10 - np.random.exponential(scale=2, size=1000)\n",
    "\n",
    "# --- Calculate and print skewness ---\n",
    "print(f\"Skewness of positively skewed data: {skew(positive_skew_data):.2f}\")\n",
    "print(f\"Skewness of negatively skewed data: {skew(negative_skew_data):.2f}\")\n",
    "\n",
    "# --- Visualize the distributions ---\n",
    "plt.figure(figsize=(12, 5))\n",
    "\n",
    "plt.subplot(1, 2, 1)\n",
    "plt.hist(positive_skew_data, bins=30, color='skyblue', edgecolor='black')\n",
    "plt.title('Positively Skewed Distribution')\n",
    "plt.xlabel('Value')\n",
    "plt.ylabel('Frequency')\n",
    "\n",
    "plt.subplot(1, 2, 2)\n",
    "plt.hist(negative_skew_data, bins=30, color='lightcoral', edgecolor='black')\n",
    "plt.title('Negatively Skewed Distribution')\n",
    "plt.xlabel('Value')\n",
    "plt.ylabel('Frequency')\n",
    "\n",
    "plt.tight_layout()\n",
    "plt.show()"
   ]
  },
  {
   "cell_type": "code",
   "execution_count": 12,
   "id": "e33e2542-79f3-4a7f-9520-104153667d42",
   "metadata": {},
   "outputs": [
    {
     "name": "stdout",
     "output_type": "stream",
     "text": [
      "Covariance (NumPy): 265.0\n"
     ]
    }
   ],
   "source": [
    "# 9. Write a Python script to calculate covariance between two datasets.\n",
    "\n",
    "import numpy as np\n",
    "\n",
    "def calculate_covariance_numpy(data1, data2):\n",
    "    \"\"\"\n",
    "    Calculates the sample covariance between two datasets using NumPy.\n",
    "\n",
    "    Args:\n",
    "        data1 (list or array-like): The first dataset.\n",
    "        data2 (list or array-like): The second dataset.\n",
    "\n",
    "    Returns:\n",
    "        float: The sample covariance between the two datasets.\n",
    "    \"\"\"\n",
    "    return np.cov(data1, data2)[0, 1]\n",
    "\n",
    "# Example usage:\n",
    "dataset_a = [10, 20, 30, 40, 50]\n",
    "dataset_b = [5, 12, 25, 38, 45]\n",
    "\n",
    "covariance_np = calculate_covariance_numpy(dataset_a, dataset_b)\n",
    "print(f\"Covariance (NumPy): {covariance_np}\")"
   ]
  },
  {
   "cell_type": "code",
   "execution_count": 13,
   "id": "3719e401-e07f-48ea-a6e2-a5c320fa8541",
   "metadata": {},
   "outputs": [
    {
     "name": "stdout",
     "output_type": "stream",
     "text": [
      "The correlation coefficient between dataset A and dataset B is: 0.7746\n",
      "The correlation coefficient between dataset C and dataset D is: -1.0000\n",
      "The correlation coefficient between dataset E and dataset F is: -0.9033\n",
      "Error: Datasets must have the same non-empty length.\n"
     ]
    }
   ],
   "source": [
    "# 10. Write a Python script to calculate the correlation coefficient between two datasets.\n",
    "\n",
    "import numpy as np\n",
    "\n",
    "def calculate_correlation(dataset1, dataset2):\n",
    "   \n",
    "    if len(dataset1) != len(dataset2) or not dataset1 or not dataset2:\n",
    "        print(\"Error: Datasets must have the same non-empty length.\")\n",
    "        return None\n",
    "\n",
    "    # Convert lists to numpy arrays for efficient computation\n",
    "    np_dataset1 = np.array(dataset1)\n",
    "    np_dataset2 = np.array(dataset2)\n",
    "\n",
    "    # Calculate the correlation matrix\n",
    "    correlation_matrix = np.corrcoef(np_dataset1, np_dataset2)\n",
    "\n",
    "    # The correlation coefficient between the two datasets is at [0, 1] or [1, 0]\n",
    "    return correlation_matrix[0, 1]\n",
    "\n",
    "# Example usage:\n",
    "data_a = [1, 2, 3, 4, 5]\n",
    "data_b = [2, 4, 5, 4, 5]\n",
    "\n",
    "correlation = calculate_correlation(data_a, data_b)\n",
    "\n",
    "if correlation is not None:\n",
    "    print(f\"The correlation coefficient between dataset A and dataset B is: {correlation:.4f}\")\n",
    "\n",
    "# Example with negative correlation\n",
    "data_c = [10, 8, 6, 4, 2]\n",
    "data_d = [1, 2, 3, 4, 5]\n",
    "\n",
    "correlation_cd = calculate_correlation(data_c, data_d)\n",
    "\n",
    "if correlation_cd is not None:\n",
    "    print(f\"The correlation coefficient between dataset C and dataset D is: {correlation_cd:.4f}\")\n",
    "\n",
    "# Example with no correlation (random data)\n",
    "data_e = [1, 5, 2, 8, 3]\n",
    "data_f = [7, 2, 9, 1, 6]\n",
    "\n",
    "correlation_ef = calculate_correlation(data_e, data_f)\n",
    "\n",
    "if correlation_ef is not None:\n",
    "    print(f\"The correlation coefficient between dataset E and dataset F is: {correlation_ef:.4f}\")\n",
    "\n",
    "# Example with unequal lengths\n",
    "data_g = [1, 2, 3]\n",
    "data_h = [4, 5]\n",
    "\n",
    "correlation_gh = calculate_correlation(data_g, data_h)"
   ]
  },
  {
   "cell_type": "code",
   "execution_count": 14,
   "id": "cd444616-c25c-411c-a38a-e4ecc527845d",
   "metadata": {},
   "outputs": [
    {
     "data": {
      "image/png": "[encoded data removed]",
      "text/plain": [
       "<Figure size 640x480 with 1 Axes>"
      ]
     },
     "metadata": {},
     "output_type": "display_data"
    }
   ],
   "source": [
    "# 11.  Create a scatter plot to visualize the relationship between two variables5\n",
    "\n",
    "import matplotlib.pyplot as plt\n",
    "x = [1, 2, 3, 4, 5, 6, 7, 8, 9, 10]\n",
    "y = [2, 4, 5, 4, 6, 7, 8, 9, 10, 12]\n",
    "\n",
    "plt.scatter(x, y)\n",
    "\n",
    "plt.xlabel(\"X-axis Label\")\n",
    "plt.ylabel(\"Y-axis Label\")\n",
    "plt.title(\"Scatter Plot of X vs Y\")\n",
    "\n",
    "plt.show()"
   ]
  },
  {
   "cell_type": "code",
   "execution_count": 15,
   "id": "c2b40aee-8e06-4195-ba97-ce11208d32f7",
   "metadata": {},
   "outputs": [
    {
     "name": "stdout",
     "output_type": "stream",
     "text": [
      "Simple Random Sample: [100, 39, 51, 70, 7, 72, 97, 73, 38, 98]\n"
     ]
    }
   ],
   "source": [
    "# 12. Implement and compare simple random sampling and systematic sampling.\n",
    "\n",
    "import random\n",
    "\n",
    "def simple_random_sample(population, sample_size):\n",
    "    \n",
    "    if sample_size > len(population):\n",
    "        raise ValueError(\"Sample size cannot be greater than population size.\")\n",
    "    return random.sample(population, sample_size)\n",
    "\n",
    "# Example usage\n",
    "population_data = list(range(1, 101)) # Population of 1 to 100\n",
    "sample_size_srs = 10\n",
    "srs_sample = simple_random_sample(population_data, sample_size_srs)\n",
    "print(f\"Simple Random Sample: {srs_sample}\")"
   ]
  },
  {
   "cell_type": "code",
   "execution_count": 16,
   "id": "e610a848-bd55-4058-8e89-3a10615dc9e2",
   "metadata": {},
   "outputs": [
    {
     "name": "stdout",
     "output_type": "stream",
     "text": [
      "Systematic Sample: [1, 11, 21, 31, 41, 51, 61, 71, 81, 91]\n"
     ]
    }
   ],
   "source": [
    "def systematic_sample(population, sample_size):\n",
    "    \n",
    "    if sample_size > len(population):\n",
    "        raise ValueError(\"Sample size cannot be greater than population size.\")\n",
    "\n",
    "    interval = len(population) // sample_size\n",
    "    start_index = random.randint(0, interval - 1) # Random starting point\n",
    "    \n",
    "    systematic_sample_list = []\n",
    "    for i in range(sample_size):\n",
    "        index = start_index + i * interval\n",
    "        if index < len(population): # Ensure index is within population bounds\n",
    "            systematic_sample_list.append(population[index])\n",
    "        else:\n",
    "            # This case might occur if interval * sample_size is slightly larger than population size\n",
    "            # and the random start index pushes the final elements out of bounds.\n",
    "            # For simplicity, we can break or handle as needed for specific scenarios.\n",
    "            break \n",
    "            \n",
    "    return systematic_sample_list\n",
    "\n",
    "population_data_sys = list(range(1, 101))\n",
    "sample_size_sys = 10\n",
    "sys_sample = systematic_sample(population_data_sys, sample_size_sys)\n",
    "print(f\"Systematic Sample: {sys_sample}\")"
   ]
  },
  {
   "cell_type": "code",
   "execution_count": 17,
   "id": "3990f8b2-b1b0-408d-89e6-192d8264de71",
   "metadata": {},
   "outputs": [
    {
     "name": "stdout",
     "output_type": "stream",
     "text": [
      "Estimated Mean: 31.5625\n"
     ]
    }
   ],
   "source": [
    "# 13. Calculate the mean, median, and mode of grouped data.\n",
    "\n",
    "def calculate_grouped_mean(data):\n",
    "    \n",
    "    sum_fm = 0\n",
    "    sum_f = 0\n",
    "    for lower, upper, frequency in data:\n",
    "        midpoint = (lower + upper) / 2\n",
    "        sum_fm += (frequency * midpoint)\n",
    "        sum_f += frequency\n",
    "    \n",
    "    if sum_f == 0:\n",
    "        return 0  # Avoid division by zero\n",
    "    return sum_fm / sum_f\n",
    "\n",
    "# Example usage:\n",
    "grouped_data = [(10, 20, 5), (20, 30, 8), (30, 40, 12), (40, 50, 7)]\n",
    "mean = calculate_grouped_mean(grouped_data)\n",
    "print(f\"Estimated Mean: {mean}\")"
   ]
  },
  {
   "cell_type": "code",
   "execution_count": 18,
   "id": "e914f815-e503-4471-8331-61e84fa96a84",
   "metadata": {},
   "outputs": [
    {
     "name": "stdout",
     "output_type": "stream",
     "text": [
      "Estimated Median: 32.5\n"
     ]
    }
   ],
   "source": [
    "def calculate_grouped_median(data):\n",
    "    \n",
    "    total_frequency = sum(f for _, _, f in data)\n",
    "    n_half = total_frequency / 2\n",
    "    \n",
    "    cumulative_frequency = 0\n",
    "    median_class = None\n",
    "    \n",
    "    for i, (lower, upper, frequency) in enumerate(data):\n",
    "        cumulative_frequency += frequency\n",
    "        if cumulative_frequency >= n_half:\n",
    "            median_class = (lower, upper, frequency, i)\n",
    "            break\n",
    "            \n",
    "    if median_class is None:\n",
    "        return None # No median class found (e.g., empty data)\n",
    "\n",
    "    L = median_class[0]\n",
    "    fm = median_class[2]\n",
    "    h = median_class[1] - median_class[0]\n",
    "\n",
    "    Cf = 0\n",
    "    if median_class[3] > 0:\n",
    "        for j in range(median_class[3]):\n",
    "            Cf += data[j][2]\n",
    "    \n",
    "    if fm == 0:\n",
    "        return None # Avoid division by zero\n",
    "    \n",
    "    median = L + ((n_half - Cf) / fm) * h\n",
    "    return median\n",
    "\n",
    "# Example usage:\n",
    "grouped_data = [(10, 20, 5), (20, 30, 8), (30, 40, 12), (40, 50, 7)]\n",
    "median = calculate_grouped_median(grouped_data)\n",
    "print(f\"Estimated Median: {median}\")"
   ]
  },
  {
   "cell_type": "code",
   "execution_count": 19,
   "id": "8844f45b-24a4-4517-b9a4-e8f20058e1fe",
   "metadata": {},
   "outputs": [
    {
     "name": "stdout",
     "output_type": "stream",
     "text": [
      "Estimated Mode: 34.44444444444444\n"
     ]
    }
   ],
   "source": [
    "def calculate_grouped_mode(data):\n",
    "\n",
    "    if not data:\n",
    "        return None\n",
    "\n",
    "    # Find the modal class\n",
    "    max_frequency = -1\n",
    "    modal_class_index = -1\n",
    "    for i, (_, _, frequency) in enumerate(data):\n",
    "        if frequency > max_frequency:\n",
    "            max_frequency = frequency\n",
    "            modal_class_index = i\n",
    "            \n",
    "    if modal_class_index == -1: # No modal class found (e.g., all frequencies are 0)\n",
    "        return None\n",
    "\n",
    "    L = data[modal_class_index][0]\n",
    "    fm = data[modal_class_index][2]\n",
    "    h = data[modal_class_index][1] - data[modal_class_index][0]\n",
    "\n",
    "    f1 = 0\n",
    "    if modal_class_index > 0:\n",
    "        f1 = data[modal_class_index - 1][2]\n",
    "\n",
    "    f2 = 0\n",
    "    if modal_class_index < len(data) - 1:\n",
    "        f2 = data[modal_class_index + 1][2]\n",
    "\n",
    "    denominator = (2 * fm - f1 - f2)\n",
    "    if denominator == 0:\n",
    "        # This can happen if f1 + f2 = 2*fm, indicating a uniform distribution or\n",
    "        # multiple modes, the formula might not be directly applicable.\n",
    "        # A simpler estimation might be the midpoint of the modal class.\n",
    "        return (data[modal_class_index][0] + data[modal_class_index][1]) / 2\n",
    "\n",
    "    mode = L + ((fm - f1) / denominator) * h\n",
    "    return mode\n",
    "\n",
    "# Example usage:\n",
    "grouped_data = [(10, 20, 5), (20, 30, 8), (30, 40, 12), (40, 50, 7)]\n",
    "mode = calculate_grouped_mode(grouped_data)\n",
    "print(f\"Estimated Mode: {mode}\")"
   ]
  },
  {
   "cell_type": "code",
   "execution_count": 20,
   "id": "39ab129d-1935-4cb2-9ac6-a5c1ab1787bc",
   "metadata": {},
   "outputs": [
    {
     "name": "stdout",
     "output_type": "stream",
     "text": [
      "Simulated Data (first 10 elements):\n",
      "[66.22017413 66.73119646 72.73521108 78.67365507 84.13584626 66.96821049\n",
      " 89.92688569 72.28876399 74.78632706 67.52788321]\n",
      "\n",
      "\n",
      "Mean: 75.22\n",
      "Median: 75.23\n",
      "Mode: 66.22\n",
      "\n",
      "\n",
      "Range: 61.14\n",
      "Variance: 107.61\n",
      "Standard Deviation: 10.37\n"
     ]
    }
   ],
   "source": [
    "# 14. Simulate data using Python and calculate its central tendency and dispersion.\n",
    "\n",
    "import numpy as np\n",
    "import statistics\n",
    "\n",
    "# 1. Simulate data\n",
    "# Generate 100 random numbers from a normal distribution\n",
    "# with a mean of 75 and a standard deviation of 10.\n",
    "data = np.random.normal(loc=75, scale=10, size=100)\n",
    "print(\"Simulated Data (first 10 elements):\")\n",
    "print(data[:10])\n",
    "print(\"\\n\")\n",
    "\n",
    "# 2. Calculate Central Tendency\n",
    "# Mean: The average value\n",
    "mean_val = np.mean(data)\n",
    "print(f\"Mean: {mean_val:.2f}\")\n",
    "\n",
    "# Median: The middle value when data is sorted\n",
    "median_val = np.median(data)\n",
    "print(f\"Median: {median_val:.2f}\")\n",
    "\n",
    "# Mode: The most frequent value (can have multiple modes)\n",
    "# Using statistics.mode for single mode, or Counter for multiple modes\n",
    "try:\n",
    "    mode_val = statistics.mode(data)\n",
    "    print(f\"Mode: {mode_val:.2f}\")\n",
    "except statistics.StatisticsError:\n",
    "    print(\"Mode: No unique mode found (multiple or no repeating values).\")\n",
    "print(\"\\n\")\n",
    "\n",
    "# 3. Calculate Dispersion\n",
    "# Range: Difference between max and min values\n",
    "data_range = np.max(data) - np.min(data)\n",
    "print(f\"Range: {data_range:.2f}\")\n",
    "\n",
    "# Variance: Average of the squared differences from the mean\n",
    "variance_val = np.var(data)\n",
    "print(f\"Variance: {variance_val:.2f}\")\n",
    "\n",
    "# Standard Deviation: Square root of the variance\n",
    "std_dev_val = np.std(data)\n",
    "print(f\"Standard Deviation: {std_dev_val:.2f}\")"
   ]
  },
  {
   "cell_type": "code",
   "execution_count": 21,
   "id": "fa716526-ad63-4aca-9b2a-f88e4db5e463",
   "metadata": {},
   "outputs": [
    {
     "name": "stdout",
     "output_type": "stream",
     "text": [
      "              A          B\n",
      "count  5.000000   5.000000\n",
      "mean   3.000000  30.000000\n",
      "std    1.581139  15.811388\n",
      "min    1.000000  10.000000\n",
      "25%    2.000000  20.000000\n",
      "50%    3.000000  30.000000\n",
      "75%    4.000000  40.000000\n",
      "max    5.000000  50.000000\n"
     ]
    }
   ],
   "source": [
    "# 15. Use NumPy or pandas to summarize a dataset’s descriptive statistics.\n",
    "\n",
    "import pandas as pd\n",
    "\n",
    "# Create a sample DataFrame\n",
    "data = {'A': [1, 2, 3, 4, 5],\n",
    "        'B': [10, 20, 30, 40, 50],\n",
    "        'C': ['X', 'Y', 'Z', 'X', 'Y']}\n",
    "df = pd.DataFrame(data)\n",
    "\n",
    "# Generate descriptive statistics for numerical columns\n",
    "summary_stats = df.describe()\n",
    "print(summary_stats)"
   ]
  },
  {
   "cell_type": "code",
   "execution_count": 22,
   "id": "3a96ba62-b8f3-4d9b-938a-0182404eaef0",
   "metadata": {},
   "outputs": [
    {
     "data": {
      "image/png": "[encoded data removed]",
      "text/plain": [
       "<Figure size 640x480 with 1 Axes>"
      ]
     },
     "metadata": {},
     "output_type": "display_data"
    }
   ],
   "source": [
    "# 16. Plot a boxplot to understand the spread and identify outliers.\n",
    "\n",
    "import matplotlib.pyplot as plt\n",
    "import numpy as np\n",
    "\n",
    "# Example: Generate some random data\n",
    "data = np.random.normal(loc=0, scale=1, size=100)\n",
    "# Add a few outliers for demonstration\n",
    "data = np.append(data, [5, -4, 8])\n",
    "\n",
    "plt.boxplot(data)\n",
    "plt.title(\"Boxplot of Data\")\n",
    "plt.ylabel(\"Value\")\n",
    "plt.show()"
   ]
  },
  {
   "cell_type": "code",
   "execution_count": 24,
   "id": "130a2a54-06dc-4b01-a225-657a87f6d2d7",
   "metadata": {},
   "outputs": [
    {
     "name": "stdout",
     "output_type": "stream",
     "text": [
      "The Interquartile Range (IQR) is: 28.75\n"
     ]
    }
   ],
   "source": [
    "# 17. Calculate the interquartile range (IQR) of a dataset.\n",
    "\n",
    "import numpy as np\n",
    "data = np.array([13, 21, 21, 40, 42, 48, 55, 72])\n",
    "Q1 = np.percentile(data, 25)\n",
    "Q3 = np.percentile(data, 75)\n",
    "\n",
    "iqr = Q3 - Q1\n",
    "print(f\"The Interquartile Range (IQR) is: {iqr}\")"
   ]
  },
  {
   "cell_type": "code",
   "execution_count": 26,
   "id": "1476b9dd-f8a6-48d6-838c-dde9306d7136",
   "metadata": {},
   "outputs": [
    {
     "name": "stdout",
     "output_type": "stream",
     "text": [
      "Original Data: [10, 20, 30, 40, 50]\n",
      "Z-score Normalized Data: [-1.41421356 -0.70710678  0.          0.70710678  1.41421356]\n"
     ]
    }
   ],
   "source": [
    "# 18. Implement Z-score normalization and explain its significance.\n",
    "\n",
    "import numpy as np\n",
    "\n",
    "def z_score_normalize(data):\n",
    "    \n",
    "    data = np.array(data)  # Ensure data is a NumPy array\n",
    "    mean = np.mean(data)\n",
    "    std_dev = np.std(data)\n",
    "\n",
    "    # Handle cases where standard deviation is zero (e.g., all data points are the same)\n",
    "    if std_dev == 0:\n",
    "        return np.zeros_like(data)\n",
    "    else:\n",
    "        normalized_data = (data - mean) / std_dev\n",
    "        return normalized_data\n",
    "\n",
    "# Example usage:\n",
    "data = [10, 20, 30, 40, 50]\n",
    "normalized_data = z_score_normalize(data)\n",
    "print(f\"Original Data: {data}\")\n",
    "print(f\"Z-score Normalized Data: {normalized_data}\")"
   ]
  },
  {
   "cell_type": "code",
   "execution_count": 28,
   "id": "c9695c01-2daf-4103-b1e0-eb68ee1acec2",
   "metadata": {},
   "outputs": [
    {
     "name": "stdout",
     "output_type": "stream",
     "text": [
      "Dataset 1 (NumPy): 1.11\n",
      "Dataset 2 (NumPy): 4.72\n",
      "Dataset 1 (Statistics): 1.17\n",
      "Dataset 2 (Statistics): 4.97\n"
     ]
    }
   ],
   "source": [
    "# 19. Compare two datasets using their standard deviations.\n",
    "\n",
    "import numpy as np\n",
    "import statistics\n",
    "\n",
    "dataset1 = [10, 12, 11, 13, 10, 12, 11, 10, 13, 12]\n",
    "dataset2 = [5, 15, 8, 18, 7, 16, 9, 17, 6, 14]\n",
    "\n",
    "# Using NumPy\n",
    "std_dev1_np = np.std(dataset1)\n",
    "std_dev2_np = np.std(dataset2)\n",
    "\n",
    "# Using the statistics module (for sample standard deviation)\n",
    "std_dev1_stats = statistics.stdev(dataset1)\n",
    "std_dev2_stats = statistics.stdev(dataset2)\n",
    "\n",
    "print(f\"Dataset 1 (NumPy): {std_dev1_np:.2f}\")\n",
    "print(f\"Dataset 2 (NumPy): {std_dev2_np:.2f}\")\n",
    "print(f\"Dataset 1 (Statistics): {std_dev1_stats:.2f}\")\n",
    "print(f\"Dataset 2 (Statistics): {std_dev2_stats:.2f}\")"
   ]
  },
  {
   "cell_type": "code",
   "execution_count": 29,
   "id": "4b7c51dc-ade8-4738-a42d-a49b0516f373",
   "metadata": {},
   "outputs": [
    {
     "data": {
      "image/png": "[encoded data removed]",
      "text/plain": [
       "<Figure size 800x600 with 2 Axes>"
      ]
     },
     "metadata": {},
     "output_type": "display_data"
    }
   ],
   "source": [
    "# 20. Write a Python program to visualize covariance using a heatmap.\n",
    "\n",
    "import numpy as np\n",
    "import seaborn as sns\n",
    "import matplotlib.pyplot as plt\n",
    "\n",
    "data = np.array([\n",
    "    [10, 2, 5],\n",
    "    [12, 3, 6],\n",
    "    [8, 1, 4],\n",
    "    [15, 4, 7],\n",
    "    [9, 2, 5]\n",
    "])\n",
    "\n",
    "# Define labels for the variables\n",
    "variable_names = ['Variable A', 'Variable B', 'Variable C']\n",
    "\n",
    "# 2. Calculate the Covariance Matrix\n",
    "# np.cov() calculates the covariance matrix.\n",
    "# By default, it treats rows as variables. To treat columns as variables (common in data analysis),\n",
    "# transpose the data using .T\n",
    "covariance_matrix = np.cov(data.T)\n",
    "\n",
    "# 3. Visualize the Covariance Matrix using a Heatmap\n",
    "plt.figure(figsize=(8, 6)) # Set the figure size for better readability\n",
    "sns.heatmap(covariance_matrix,\n",
    "            annot=True,       # Display the covariance values on the heatmap\n",
    "            fmt=\".2f\",        # Format the annotations to two decimal places\n",
    "            cmap=\"viridis\",   # Choose a colormap (e.g., \"viridis\", \"coolwarm\", \"YlGnBu\")\n",
    "            xticklabels=variable_names, # Set x-axis tick labels\n",
    "            yticklabels=variable_names, # Set y-axis tick labels\n",
    "            linewidths=.5,    # Add lines between cells\n",
    "            linecolor='black' # Set line color\n",
    "           )\n",
    "plt.title('Covariance Matrix Heatmap') # Set the title of the heatmap\n",
    "plt.show() # Display the plot"
   ]
  },
  {
   "cell_type": "code",
   "execution_count": null,
   "id": "d205a013-3a18-4241-9928-68d4cf126292",
   "metadata": {},
   "outputs": [],
   "source": [
    "# 21. Use seaborn to create a correlation matrix for a dataset.\n",
    "\n",
    "import seaborn as sns\n",
    "import matplotlib.pyplot as plt\n",
    "import pandas as pd\n",
    "import numpy as np\n",
    "\n",
    "# Assuming your data is in a Pandas DataFrame called 'data'\n",
    "# Replace 'your_data.csv' with your actual data file\n",
    "data = pd.read_csv('my_file.csv')\n",
    "\n",
    "correlation_matrix = data.corr()\n",
    "\n",
    "plt.figure(figsize=(10, 8))  # Adjust figure size as needed\n",
    "sns.heatmap(correlation_matrix, annot=True, cmap='coolwarm', fmt=\".2f\", linewidths=.5, mask=np.triu(np.ones_like(correlation_matrix, dtype=bool)))\n",
    "plt.title('Correlation Matrix')\n",
    "plt.show()"
   ]
  },
  {
   "cell_type": "code",
   "execution_count": 34,
   "id": "2d875312-0bd3-4c97-98c5-4cdb746a79a1",
   "metadata": {},
   "outputs": [
    {
     "name": "stdout",
     "output_type": "stream",
     "text": [
      "Dataset: [12, 15, 18, 20, 22, 25, 28, 30]\n",
      "Variance: 39.07142857142857\n",
      "Standard Deviation: 6.250714244902623\n"
     ]
    }
   ],
   "source": [
    "# 22. Generate a dataset and implement both variance and standard deviation computations.\n",
    "\n",
    "data = [12, 15, 18, 20, 22, 25, 28, 30]\n",
    "\n",
    "def calculate_variance(dataset):\n",
    "    n = len(dataset)\n",
    "    if n < 2:  # Variance is undefined for less than 2 data points\n",
    "        return None\n",
    "    \n",
    "    mean = sum(dataset) / n\n",
    "    squared_differences = [(x - mean) ** 2 for x in dataset]\n",
    "    # For sample variance, divide by (n-1)\n",
    "    variance = sum(squared_differences) / (n - 1) \n",
    "    return variance\n",
    "\n",
    "import math\n",
    "\n",
    "def calculate_standard_deviation(dataset):\n",
    "    variance = calculate_variance(dataset)\n",
    "    if variance is None:\n",
    "        return None\n",
    "    standard_deviation = math.sqrt(variance)\n",
    "    return standard_deviation\n",
    "\n",
    "variance_result = calculate_variance(data)\n",
    "std_dev_result = calculate_standard_deviation(data)\n",
    "\n",
    "print(f\"Dataset: {data}\")\n",
    "print(f\"Variance: {variance_result}\")\n",
    "print(f\"Standard Deviation: {std_dev_result}\")"
   ]
  },
  {
   "cell_type": "code",
   "execution_count": 35,
   "id": "addd19c0-91c3-47e0-902f-aecaddf3f5c8",
   "metadata": {},
   "outputs": [
    {
     "data": {
      "image/png": "[encoded data removed]",
      "text/plain": [
       "<Figure size 1500x500 with 3 Axes>"
      ]
     },
     "metadata": {},
     "output_type": "display_data"
    }
   ],
   "source": [
    "# 23. Visualize skewness and kurtosis using Python libraries like matplotlib or seaborn.\n",
    "\n",
    "import seaborn as sns\n",
    "import matplotlib.pyplot as plt\n",
    "import numpy as np\n",
    "\n",
    "# Generate sample data with different skewness\n",
    "data_normal = np.random.normal(0, 1, 1000)\n",
    "data_positive_skew = np.random.exponential(1, 1000)\n",
    "data_negative_skew = -np.random.exponential(1, 1000)\n",
    "\n",
    "plt.figure(figsize=(15, 5))\n",
    "\n",
    "plt.subplot(1, 3, 1)\n",
    "sns.histplot(data_normal, kde=True, color='skyblue')\n",
    "plt.title('Normal Distribution (Zero Skew)')\n",
    "\n",
    "plt.subplot(1, 3, 2)\n",
    "sns.histplot(data_positive_skew, kde=True, color='lightcoral')\n",
    "plt.title('Positive Skew (Right Skew)')\n",
    "\n",
    "plt.subplot(1, 3, 3)\n",
    "sns.histplot(data_negative_skew, kde=True, color='lightgreen')\n",
    "plt.title('Negative Skew (Left Skew)')\n",
    "\n",
    "plt.tight_layout()\n",
    "plt.show()"
   ]
  },
  {
   "cell_type": "code",
   "execution_count": 36,
   "id": "7dfb0105-d2d7-45e6-bd96-dd875e69e3e8",
   "metadata": {},
   "outputs": [
    {
     "name": "stdout",
     "output_type": "stream",
     "text": [
      "Pearson Correlation (data1 vs data2): 0.9825\n",
      "Pearson P-value (data1 vs data2): 0.0000\n",
      "\n",
      "Spearman Correlation (data1 vs data3): -1.0000\n",
      "Spearman P-value (data1 vs data3): 0.0000\n"
     ]
    }
   ],
   "source": [
    "# 24. Implement the Pearson and Spearman correlation coefficients for a dataset.\n",
    "\n",
    "import numpy as np\n",
    "from scipy import stats\n",
    "\n",
    "# Sample data\n",
    "data1 = np.array([1, 2, 3, 4, 5, 6, 7, 8, 9, 10])\n",
    "data2 = np.array([2, 4, 5, 4, 6, 7, 8, 9, 10, 11])\n",
    "data3 = np.array([10, 9, 8, 7, 6, 5, 4, 3, 2, 1])\n",
    "\n",
    "# Calculate Pearson correlation\n",
    "pearson_corr, pearson_p_value = stats.pearsonr(data1, data2)\n",
    "print(f\"Pearson Correlation (data1 vs data2): {pearson_corr:.4f}\")\n",
    "print(f\"Pearson P-value (data1 vs data2): {pearson_p_value:.4f}\\n\")\n",
    "\n",
    "# Calculate Spearman correlation\n",
    "spearman_corr, spearman_p_value = stats.spearmanr(data1, data3)\n",
    "print(f\"Spearman Correlation (data1 vs data3): {spearman_corr:.4f}\")\n",
    "print(f\"Spearman P-value (data1 vs data3): {spearman_p_value:.4f}\")"
   ]
  }
 ],
 "metadata": {
  "kernelspec": {
   "display_name": "Python 3 (ipykernel)",
   "language": "python",
   "name": "python3"
  },
  "language_info": {
   "codemirror_mode": {
    "name": "ipython",
    "version": 3
   },
   "file_extension": ".py",
   "mimetype": "text/x-python",
   "name": "python",
   "nbconvert_exporter": "python",
   "pygments_lexer": "ipython3",
   "version": "3.13.3"
  }
 },
 "nbformat": 4,
 "nbformat_minor": 5
}
